{
 "cells": [
  {
   "cell_type": "markdown",
   "metadata": {},
   "source": [
    "# Gramener Case Study"
   ]
  },
  {
   "cell_type": "code",
   "execution_count": null,
   "metadata": {
    "collapsed": true
   },
   "outputs": [],
   "source": [
    "import numpy as np\n",
    "import pandas as pd\n",
    "pd.options.display.float_format = '{:.3f}'.format\n",
    "pd.set_option('display.max_colwidth', -1)\n",
    "pd.options.display.max_columns = 20"
   ]
  },
  {
   "cell_type": "code",
   "execution_count": null,
   "metadata": {
    "collapsed": true
   },
   "outputs": [],
   "source": [
    "import matplotlib.pyplot as plt\n",
    "import seaborn as sns"
   ]
  },
  {
   "cell_type": "markdown",
   "metadata": {},
   "source": [
    "#### External contants"
   ]
  },
  {
   "cell_type": "code",
   "execution_count": null,
   "metadata": {
    "collapsed": true
   },
   "outputs": [],
   "source": [
    "loan_file_path=\"./loan/loan.csv\"\n",
    "data_dict_file_path = \"./loan/Data_Dictionary.xlsx\""
   ]
  },
  {
   "cell_type": "markdown",
   "metadata": {},
   "source": [
    "## Check Point 1:  Data Cleaning"
   ]
  },
  {
   "cell_type": "markdown",
   "metadata": {},
   "source": [
    "### - Fetching ```loan``` data from given file"
   ]
  },
  {
   "cell_type": "code",
   "execution_count": null,
   "metadata": {},
   "outputs": [],
   "source": [
    "pd.options.display.max_columns = 20\n",
    "loan = pd.read_csv(loan_file_path, encoding=\"utf8\", low_memory=False)\n",
    "loan.head()"
   ]
  },
  {
   "cell_type": "markdown",
   "metadata": {},
   "source": [
    "#### Finding number of rows and columns in the dataset"
   ]
  },
  {
   "cell_type": "code",
   "execution_count": null,
   "metadata": {},
   "outputs": [],
   "source": [
    "print('The loan dataset set has %d rows and %d columns' % (loan.shape[0], loan.shape[1]))"
   ]
  },
  {
   "cell_type": "markdown",
   "metadata": {},
   "source": [
    "#### Removing columns which have all values as ```NaN```"
   ]
  },
  {
   "cell_type": "code",
   "execution_count": null,
   "metadata": {},
   "outputs": [],
   "source": [
    "nan_count_df = loan.isnull().sum().to_frame('nan_count')\n",
    "num_col_with_all_nan = nan_count_df.loc[nan_count_df['nan_count']  == loan.shape[0], :].shape[0]\n",
    "print('Number of columns with all NaN values are %d.' % (num_col_with_all_nan))"
   ]
  },
  {
   "cell_type": "code",
   "execution_count": null,
   "metadata": {},
   "outputs": [],
   "source": [
    "# Removing columns which have all values as NaN\n",
    "loans_frame = loan.dropna(axis=1, how=\"all\")\n",
    "print('The loan dataset set has now %d rows and %d columns' % (loans_frame.shape[0], loans_frame.shape[1]))"
   ]
  },
  {
   "cell_type": "markdown",
   "metadata": {},
   "source": [
    "### - Fetching ```Data Dictionary```  from given file"
   ]
  },
  {
   "cell_type": "code",
   "execution_count": null,
   "metadata": {},
   "outputs": [],
   "source": [
    "data_dict = pd.read_excel(data_dict_file_path, sheet_name=\"LoanStats\")\n",
    "data_dict.head()"
   ]
  },
  {
   "cell_type": "markdown",
   "metadata": {},
   "source": [
    "#### Initial List of columns for consideration "
   ]
  },
  {
   "cell_type": "code",
   "execution_count": null,
   "metadata": {
    "collapsed": true
   },
   "outputs": [],
   "source": [
    "filtered_data_dict = data_dict.loc[data_dict['LoanStatNew'].isin(loans_frame.columns), :]"
   ]
  },
  {
   "cell_type": "markdown",
   "metadata": {},
   "source": [
    "### Considering those loan entries which are  either `Fully Paid` or `Charged Off`  to discover any pattern in them\n",
    "The reason for not selecting `Current` loans because we don't know if they will be fully paid or default in future. After creating a model we can predict if `Current` loans will default or not."
   ]
  },
  {
   "cell_type": "code",
   "execution_count": null,
   "metadata": {},
   "outputs": [],
   "source": [
    "loans_frame = loans_frame.loc[loans_frame['loan_status'].isin(['Fully Paid', 'Charged Off']), :]\n",
    "loans_frame.head()"
   ]
  },
  {
   "cell_type": "code",
   "execution_count": null,
   "metadata": {},
   "outputs": [],
   "source": [
    "# Shape of the 'Charged Off' records i.e. number of records and columns\n",
    "loans_frame.shape"
   ]
  },
  {
   "cell_type": "code",
   "execution_count": null,
   "metadata": {
    "collapsed": true
   },
   "outputs": [],
   "source": [
    "clean_loan_df = loans_frame.isnull().sum().sort_index().to_frame('nan_count').reset_index()"
   ]
  },
  {
   "cell_type": "code",
   "execution_count": null,
   "metadata": {},
   "outputs": [],
   "source": [
    "# Creating a dataframe by merging the data dictional the clean_loan dataframe to get a better understanding\n",
    "column_desc = pd.merge(filtered_data_dict, clean_loan_df, how=\"inner\", left_on=\"LoanStatNew\", right_on=\"index\")\n",
    "column_desc.loc[:,['LoanStatNew','Description','nan_count']]"
   ]
  },
  {
   "cell_type": "code",
   "execution_count": null,
   "metadata": {},
   "outputs": [],
   "source": [
    "column_desc.loc[column_desc['nan_count'] > 0,['LoanStatNew','Description','nan_count']]"
   ]
  },
  {
   "cell_type": "markdown",
   "metadata": {},
   "source": [
    "##### Removing columns  \n",
    "- ```mths_since_last_delinq```, ```mths_since_last_record```, ```next_pymnt_d``` as the contain more 50% values as NaN\n",
    "- ```emp_title```, ```desc```, ```title```, ```url``` are irrelevant for EDA"
   ]
  },
  {
   "cell_type": "code",
   "execution_count": null,
   "metadata": {},
   "outputs": [],
   "source": [
    "#### Removing columns  mths_since_last_delinq, mths_since_last_record, next_pymnt_d, emp_title, desc\n",
    "columns_to_remove = ['emp_title', 'desc', 'url', 'title']\n",
    "columns_under_process = column_desc.loc[~column_desc['LoanStatNew'].isin(columns_to_remove), 'LoanStatNew'].values\n",
    "loans_frame = loans_frame.loc[:,columns_under_process]\n",
    "\n",
    "# Validate will take 50% percent as cutoff and will keep below that\n",
    "max_allowed_nan = len(loans_frame)/2\n",
    "print(max_allowed_nan)\n",
    "loans_frame = loans_frame.loc[:,(nan_count_df['nan_count'] < max_allowed_nan)]\n",
    "print(loans_frame.isnull().sum()) "
   ]
  },
  {
   "cell_type": "code",
   "execution_count": null,
   "metadata": {},
   "outputs": [],
   "source": [
    "loans_frame.shape"
   ]
  },
  {
   "cell_type": "code",
   "execution_count": null,
   "metadata": {},
   "outputs": [],
   "source": [
    "print(\"Total number of unique member in the data set is %d\" % loans_frame['member_id'].nunique())"
   ]
  },
  {
   "cell_type": "code",
   "execution_count": null,
   "metadata": {},
   "outputs": [],
   "source": [
    "pd.options.display.max_columns = 100 # To see all columns\n",
    "loans_frame.describe()"
   ]
  },
  {
   "cell_type": "code",
   "execution_count": null,
   "metadata": {},
   "outputs": [],
   "source": [
    "# Validate all values in column is same by checking unique values in clumn\n",
    "uniques = loans_frame.apply(lambda x:x.nunique())\n",
    "print(uniques)"
   ]
  },
  {
   "cell_type": "code",
   "execution_count": null,
   "metadata": {},
   "outputs": [],
   "source": [
    "# Remove columns where unique values are 1 as it illustrates that all values are same in column\n",
    "loans_frame = loans_frame.drop(uniques[uniques <= 1].index, axis = 1)\n",
    "print(loans_frame.shape)\n",
    "loans_frame.head()"
   ]
  },
  {
   "cell_type": "code",
   "execution_count": null,
   "metadata": {},
   "outputs": [],
   "source": [
    "column_desc.loc[~column_desc['LoanStatNew'].isin(columns_to_remove), ['LoanStatNew', 'Description']]"
   ]
  },
  {
   "cell_type": "markdown",
   "metadata": {},
   "source": [
    "### Check Point 2: Univariate Analysis"
   ]
  },
  {
   "cell_type": "markdown",
   "metadata": {},
   "source": [
    "From the above results we can now chalk out catergorical columns in the ```loans_frame```\n",
    "- ```unordered categorical variables``` \n",
    "==> addr_state, application_type, home_ownership, initial_list_status, purpose, pymnt_plan, sub_grade, verification_status, zip_code\n",
    "- ```ordered categorical variables```\n",
    "==> emp_length, grade, sub_grade, term"
   ]
  },
  {
   "cell_type": "code",
   "execution_count": null,
   "metadata": {
    "collapsed": true
   },
   "outputs": [],
   "source": [
    "def category_univariate_analysis(column_name):\n",
    "    df = loans_frame.groupby('loan_status')[column_name].value_counts(ascending=False)\\\n",
    "                            .unstack(level=0).reset_index()\n",
    "    df['Charged Off'].fillna(value=0, inplace=True)\n",
    "    df['Total'] = df['Charged Off'] + df['Fully Paid']\n",
    "    df['Charged_Off_Percent'] = df['Charged Off'] * 100 /df['Total']\n",
    "    df['Fully_Paid_Percent'] = df['Fully Paid'] * 100 /df['Total']\n",
    "    return df.sort_values(by='Charged_Off_Percent', ascending=False)"
   ]
  },
  {
   "cell_type": "code",
   "execution_count": null,
   "metadata": {
    "collapsed": true
   },
   "outputs": [],
   "source": [
    "def power_law_df(df, column_name):\n",
    "    s1 = np.log(df['Charged Off'].rank(axis=0, ascending=False)).to_frame(name='Rank_Log')\n",
    "    s2 = np.log(df['Charged Off']).to_frame(name='Count_Log')\n",
    "    s3 = df[column_name].to_frame(name=column_name)\n",
    "\n",
    "    power_law_1 = pd.concat([s1, s2, s3], axis=1)\n",
    "    power_law_1['status'] = 'Charged Off'\n",
    "\n",
    "    s1 = np.log(df['Fully Paid'].rank(axis=0, ascending=False)).to_frame(name='Rank_Log')\n",
    "    s2 = np.log(df['Fully Paid']).to_frame(name='Count_Log')\n",
    "\n",
    "    power_law_2 = pd.concat([s1, s2, s3], axis=1)\n",
    "    power_law_2['status'] = 'Fully Paid'\n",
    "\n",
    "    power_law = pd.concat([power_law_1, power_law_2], ignore_index=True)\n",
    "    return power_law"
   ]
  },
  {
   "cell_type": "code",
   "execution_count": null,
   "metadata": {},
   "outputs": [],
   "source": [
    "loans_frame['verification_status'].value_counts(normalize=True)"
   ]
  },
  {
   "cell_type": "code",
   "execution_count": null,
   "metadata": {},
   "outputs": [],
   "source": [
    "verification_status_analysis = category_univariate_analysis('verification_status')\n",
    "verification_status_analysis"
   ]
  },
  {
   "cell_type": "markdown",
   "metadata": {},
   "source": [
    "#### Charged_Off_Percent and  Fully_Paid_Percent are precentages of Charged Off count and Fully Paid count of  Total loan  application corresponding to a paticular category which in this case is ```verification status```.\n",
    "Please note that this metrics is used in below successive variables."
   ]
  },
  {
   "cell_type": "code",
   "execution_count": null,
   "metadata": {},
   "outputs": [],
   "source": [
    "df_p = power_law_df(verification_status_analysis, 'verification_status')\n",
    "df_p.sort_values(by='Rank_Log')"
   ]
  },
  {
   "cell_type": "code",
   "execution_count": null,
   "metadata": {},
   "outputs": [],
   "source": [
    "plt.figure(figsize=(15,4))\n",
    "sns.pointplot(x=\"Rank_Log\", y=\"Count_Log\", hue=\"status\", data=df_p.loc[:,['Rank_Log', 'Count_Log', 'status']])\n",
    "plt.show()"
   ]
  },
  {
   "cell_type": "code",
   "execution_count": null,
   "metadata": {},
   "outputs": [],
   "source": [
    "plt.figure(figsize=(15,4))\n",
    "sns.barplot(x=\"verification_status\", y=\"Charged_Off_Percent\", data=verification_status_analysis)\\\n",
    "    .set(ylabel='Charged Off(%)', xlabel='Verification Status')\n",
    "plt.show()"
   ]
  },
  {
   "cell_type": "markdown",
   "metadata": {},
   "source": [
    "#### From the above analysis it is not clear than ```home_ownership``` of loan has any impact on loan."
   ]
  },
  {
   "cell_type": "code",
   "execution_count": null,
   "metadata": {},
   "outputs": [],
   "source": [
    "loans_frame['home_ownership'].value_counts(normalize=True)"
   ]
  },
  {
   "cell_type": "code",
   "execution_count": null,
   "metadata": {},
   "outputs": [],
   "source": [
    "home_ownership_analysis = category_univariate_analysis('home_ownership')\n",
    "home_ownership_analysis"
   ]
  },
  {
   "cell_type": "code",
   "execution_count": null,
   "metadata": {},
   "outputs": [],
   "source": [
    "df_h = power_law_df(home_ownership_analysis.loc[home_ownership_analysis['Charged Off'] != 0, :], 'home_ownership')\n",
    "df_h.sort_values(by='Rank_Log')"
   ]
  },
  {
   "cell_type": "code",
   "execution_count": null,
   "metadata": {},
   "outputs": [],
   "source": [
    "plt.figure(figsize=(15,4))\n",
    "sns.pointplot(x=\"Rank_Log\", y=\"Count_Log\", hue=\"status\", data=df_h.loc[:,['Rank_Log', 'Count_Log', 'status']])\n",
    "locs, labels = plt.xticks()\n",
    "plt.setp(labels, rotation=45)\n",
    "plt.show()"
   ]
  },
  {
   "cell_type": "code",
   "execution_count": null,
   "metadata": {},
   "outputs": [],
   "source": [
    "plt.figure(figsize=(15,4))\n",
    "sns.barplot(x=\"home_ownership\", y=\"Charged_Off_Percent\", data=home_ownership_analysis)\\\n",
    "    .set(ylabel='Charged Off(%)', xlabel='Home Ownership')\n",
    "plt.show()"
   ]
  },
  {
   "cell_type": "markdown",
   "metadata": {},
   "source": [
    "#### From the above analysis it is not clear than ```home_ownership``` of loan has any impact on loan."
   ]
  },
  {
   "cell_type": "code",
   "execution_count": null,
   "metadata": {},
   "outputs": [],
   "source": [
    "loans_frame['purpose'].value_counts(normalize=True)"
   ]
  },
  {
   "cell_type": "code",
   "execution_count": null,
   "metadata": {},
   "outputs": [],
   "source": [
    "purpose_analysis = category_univariate_analysis('purpose')\n",
    "purpose_analysis"
   ]
  },
  {
   "cell_type": "code",
   "execution_count": null,
   "metadata": {},
   "outputs": [],
   "source": [
    "df_pr = power_law_df(purpose_analysis, 'purpose')\n",
    "df_pr.sort_values(by='Rank_Log').head()"
   ]
  },
  {
   "cell_type": "code",
   "execution_count": null,
   "metadata": {},
   "outputs": [],
   "source": [
    "plt.figure(figsize=(15,4))\n",
    "sns.pointplot(x=\"Rank_Log\", y=\"Count_Log\", hue=\"status\", data=df_pr.loc[:,['Rank_Log', 'Count_Log', 'status']])\n",
    "locs, labels = plt.xticks()\n",
    "plt.setp(labels, rotation=45)\n",
    "plt.show()"
   ]
  },
  {
   "cell_type": "code",
   "execution_count": null,
   "metadata": {},
   "outputs": [],
   "source": [
    "plt.figure(figsize=(15,4))\n",
    "g = sns.barplot(x=\"purpose\", y=\"Charged_Off_Percent\", data=purpose_analysis)\\\n",
    "    .set(ylabel='Charged Off(%)', xlabel='Purpose')\n",
    "locs, labels = plt.xticks()\n",
    "plt.setp(labels, rotation=45)\n",
    "plt.show()"
   ]
  },
  {
   "cell_type": "markdown",
   "metadata": {},
   "source": [
    "#### From the above analysis it is not clear than ```purpose``` of loan has any impact on loan default but it is interesting to loan with purpose `small business` has relatively high rate of default."
   ]
  },
  {
   "cell_type": "markdown",
   "metadata": {},
   "source": [
    "### From Lending Club public website it clear that grade, sub-grade and interest are correlated.\n",
    "https://www.lendingclub.com/foliofn/rateDetail.action. Hence we are analysis grade only."
   ]
  },
  {
   "cell_type": "code",
   "execution_count": null,
   "metadata": {},
   "outputs": [],
   "source": [
    "loans_frame['grade'].value_counts(normalize=True)"
   ]
  },
  {
   "cell_type": "code",
   "execution_count": null,
   "metadata": {},
   "outputs": [],
   "source": [
    "grade_analysis = category_univariate_analysis('grade')\n",
    "grade_analysis"
   ]
  },
  {
   "cell_type": "code",
   "execution_count": null,
   "metadata": {},
   "outputs": [],
   "source": [
    "plt.figure(figsize=(15,12))\n",
    "plt.subplot(3, 1, 1)\n",
    "g = sns.barplot(x=\"grade\", y=\"Charged_Off_Percent\", data=grade_analysis.sort_values(by='grade'))\\\n",
    "    .set(ylabel='Charged Off(%)', xlabel='Grade')\n",
    "    \n",
    "plt.subplot(3, 1, 2)\n",
    "sns.barplot(x=\"grade\", y=\"Charged Off\", data=grade_analysis.sort_values(by='grade'))\\\n",
    "    .set(ylabel='Charged Off(Count)', xlabel='Grade')\n",
    "\n",
    "plt.subplot(3, 1, 3)\n",
    "sns.barplot(x=\"grade\", y=\"Fully Paid\", data=grade_analysis.sort_values(by='grade'))\\\n",
    "    .set(ylabel='Fully Paid(Count)', xlabel='Grade')\n",
    "plt.show()"
   ]
  },
  {
   "cell_type": "markdown",
   "metadata": {},
   "source": [
    "#### From  above analysis it can be said the higher the grade (where G been highest and A been lowest) i.e higher the interest rate greater is the chance of loan default"
   ]
  },
  {
   "cell_type": "code",
   "execution_count": null,
   "metadata": {},
   "outputs": [],
   "source": [
    "category_univariate_analysis('sub_grade').head()"
   ]
  },
  {
   "cell_type": "code",
   "execution_count": null,
   "metadata": {},
   "outputs": [],
   "source": [
    "loans_frame['emp_length'].value_counts(normalize=True)"
   ]
  },
  {
   "cell_type": "code",
   "execution_count": null,
   "metadata": {},
   "outputs": [],
   "source": [
    "emp_length_analysis = category_univariate_analysis('emp_length')\n",
    "emp_length_analysis"
   ]
  },
  {
   "cell_type": "code",
   "execution_count": null,
   "metadata": {},
   "outputs": [],
   "source": [
    "plt.figure(figsize=(15,12))\n",
    "plt.subplot(3, 1, 1)\n",
    "sns.barplot(x=\"emp_length\", y=\"Charged_Off_Percent\", data=emp_length_analysis.sort_values(by='emp_length'))\\\n",
    "    .set(ylabel='Charged Off(%)', xlabel='Employee work experience')\n",
    "    \n",
    "plt.subplot(3, 1, 2)\n",
    "sns.barplot(x=\"emp_length\", y=\"Charged Off\", data=emp_length_analysis.sort_values(by='emp_length'))\\\n",
    "    .set(ylabel='Charged Off(Count)', xlabel='Employee work experience')\n",
    "\n",
    "plt.subplot(3, 1, 3)\n",
    "sns.barplot(x=\"emp_length\", y=\"Fully Paid\", data=emp_length_analysis.sort_values(by='emp_length'))\\\n",
    "    .set(ylabel='Fully Paid(Count)', xlabel='Employee work experience')\n",
    "locs, labels = plt.xticks()\n",
    "plt.setp(labels, rotation=45)\n",
    "plt.show()"
   ]
  },
  {
   "cell_type": "markdown",
   "metadata": {},
   "source": [
    " ### From  above analysis it is difficult to say employement length  has any impact on loan deaults as records which have no employment records available default most"
   ]
  },
  {
   "cell_type": "code",
   "execution_count": null,
   "metadata": {},
   "outputs": [],
   "source": [
    "loans_frame['term'].value_counts(normalize=True)"
   ]
  },
  {
   "cell_type": "code",
   "execution_count": null,
   "metadata": {},
   "outputs": [],
   "source": [
    "term_analysis = category_univariate_analysis('term')\n",
    "term_analysis"
   ]
  },
  {
   "cell_type": "code",
   "execution_count": null,
   "metadata": {},
   "outputs": [],
   "source": [
    "plt.figure(figsize=(15,4))\n",
    "g = sns.barplot(x=\"term\", y=\"Charged_Off_Percent\", data=term_analysis)\\\n",
    "    .set(ylabel='Charged Off(%)', xlabel='Term')\n",
    "plt.show()"
   ]
  },
  {
   "cell_type": "markdown",
   "metadata": {},
   "source": [
    "#### From  above analysis it can be said the ```60 months``` term have higher change of getting defaulted."
   ]
  },
  {
   "cell_type": "code",
   "execution_count": null,
   "metadata": {},
   "outputs": [],
   "source": [
    "loans_frame['addr_state'].value_counts(normalize=True).head()"
   ]
  },
  {
   "cell_type": "code",
   "execution_count": null,
   "metadata": {},
   "outputs": [],
   "source": [
    "addr_state_analysis = category_univariate_analysis('addr_state')\n",
    "addr_state_analysis.head()"
   ]
  },
  {
   "cell_type": "code",
   "execution_count": null,
   "metadata": {},
   "outputs": [],
   "source": [
    "plt.figure(figsize=(15,4))\n",
    "g = sns.barplot(x=\"addr_state\", y=\"Charged_Off_Percent\", data=addr_state_analysis)\\\n",
    "    .set(ylabel='Charged Off(%)', xlabel='Address State')\n",
    "plt.show()"
   ]
  },
  {
   "cell_type": "markdown",
   "metadata": {},
   "source": [
    "### From  above analysis it can be said that region has almost no impact loan default. NE has sudden spike because  it has very less number of records"
   ]
  },
  {
   "cell_type": "markdown",
   "metadata": {},
   "source": [
    "## Quatitative variable univariate analysis\n",
    "The whole dataset has been segmented on the basis of ```loan_status``` i.e ```Charged Off``` and ```Fully Paid```"
   ]
  },
  {
   "cell_type": "markdown",
   "metadata": {},
   "source": [
    "#### A Type-driven metrics created which for  ```revol_uti```, a bucket range 10% is created to group loans as per ```revol_util``` "
   ]
  },
  {
   "cell_type": "code",
   "execution_count": null,
   "metadata": {
    "collapsed": true
   },
   "outputs": [],
   "source": [
    "loans_frame['revol_util'] = loans_frame['revol_util'].astype('str')\n",
    "loans_frame['revol_util'] = loans_frame['revol_util'].map(lambda x : x.rstrip('%'))\n",
    "loans_frame['revol_util'] = loans_frame['revol_util'].astype('float')\n",
    "bins=[0,10,20,30,40,50,60,70,80,90,100]\n",
    "revol_util_series = pd.cut(loans_frame.loc[loans_frame['loan_status'] == 'Charged Off','revol_util'], \\\n",
    "                       bins=bins).value_counts(normalize=True)"
   ]
  },
  {
   "cell_type": "code",
   "execution_count": null,
   "metadata": {
    "collapsed": true
   },
   "outputs": [],
   "source": [
    "loans_frame['revol_util'] = loans_frame['revol_util'].astype('str')\n",
    "loans_frame['revol_util'] = loans_frame['revol_util'].map(lambda x : x.rstrip('%'))\n",
    "loans_frame['revol_util'] = loans_frame['revol_util'].astype('float')\n",
    "bins=[0,10,20,30,40,50,60,70,80,90,100]\n",
    "revol_util_fp_series = pd.cut(loans_frame.loc[loans_frame['loan_status'] == 'Fully Paid','revol_util'], \\\n",
    "                              bins=bins).value_counts(normalize=True)"
   ]
  },
  {
   "cell_type": "code",
   "execution_count": null,
   "metadata": {},
   "outputs": [],
   "source": [
    "s1 = revol_util_series.to_frame('Charged_Off_Percentage')\n",
    "s2 = revol_util_fp_series.to_frame('Fully_Paid_Percentage')\n",
    "df_u = pd.concat([s1, s2], axis=1)\n",
    "df_u.reset_index(inplace=True)\n",
    "df_u.rename(columns={'index': 'Revol_Util_Percentage_Range'}, inplace=True)\n",
    "df_u['Charged_Off_Percentage'] = df_u['Charged_Off_Percentage'] * 100\n",
    "df_u['Fully_Paid_Percentage'] = df_u['Fully_Paid_Percentage'] * 100\n",
    "df_u"
   ]
  },
  {
   "cell_type": "markdown",
   "metadata": {},
   "source": [
    "##### Charged_Off_Percentage and Fully_Paid_Percentage represent the percentegae of respected `loan_status ` in the corresponding `revol_util` bucket range"
   ]
  },
  {
   "cell_type": "code",
   "execution_count": null,
   "metadata": {
    "collapsed": true
   },
   "outputs": [],
   "source": [
    "charged_off_df = df_u.loc[:, ['Revol_Util_Percentage_Range', 'Charged_Off_Percentage']]\n",
    "charged_off_df['status'] = 'Charged Off'\n",
    "charged_off_df.rename(columns={'Charged_Off_Percentage': 'Percentage_Group'}, inplace=True)\n",
    "\n",
    "fully_paid_df = df_u.loc[:, ['Revol_Util_Percentage_Range', 'Fully_Paid_Percentage']]\n",
    "fully_paid_df['status'] = 'Fully Paid'\n",
    "fully_paid_df.rename(columns={'Fully_Paid_Percentage': 'Percentage_Group'}, inplace=True)\n",
    "fully_paid_df\n",
    "\n",
    "chart_df = pd.concat([charged_off_df, fully_paid_df], ignore_index=True);"
   ]
  },
  {
   "cell_type": "code",
   "execution_count": null,
   "metadata": {},
   "outputs": [],
   "source": [
    "plt.figure(figsize=(15,4))\n",
    "g = sns.pointplot(x=\"Revol_Util_Percentage_Range\", y=\"Percentage_Group\", hue='status', data=chart_df)\\\n",
    ".set(ylabel='Percentage of Loan Status', xlabel='Revoling Line Utilization Rate (% range)')\n",
    "plt.show()"
   ]
  },
  {
   "cell_type": "code",
   "execution_count": null,
   "metadata": {},
   "outputs": [],
   "source": [
    "plt.figure(figsize=(6,10))\n",
    "low, high = loans_frame.revol_util.quantile([0.05, 0.95])\n",
    "ax = sns.boxplot(x=\"loan_status\", y=\"revol_util\", data=loans_frame[loans_frame.revol_util.between(low,high)])\n",
    "plt.show()"
   ]
  },
  {
   "cell_type": "markdown",
   "metadata": {},
   "source": [
    "#### From the above analysis it can be said that higher the value of this Reloving balance utility rate  , greater is the chance of loan default.\n",
    "As we can see the median quite high for defaulted loans."
   ]
  },
  {
   "cell_type": "code",
   "execution_count": null,
   "metadata": {},
   "outputs": [],
   "source": [
    "revol_bal_co = loans_frame.loc[loans_frame['loan_status'] == 'Charged Off','revol_bal'].describe()\n",
    "revol_bal_co"
   ]
  },
  {
   "cell_type": "code",
   "execution_count": null,
   "metadata": {},
   "outputs": [],
   "source": [
    "loans_frame.loc[loans_frame['loan_status'] == 'Fully Paid','revol_bal'].describe()"
   ]
  },
  {
   "cell_type": "code",
   "execution_count": null,
   "metadata": {},
   "outputs": [],
   "source": [
    "plt.figure(figsize=(6,10))\n",
    "low, high = loans_frame.revol_bal.quantile([0.05, 0.95])\n",
    "ax = sns.boxplot(x=\"loan_status\", y=\"revol_bal\", data=loans_frame[loans_frame.revol_bal.between(low,high)])\n",
    "plt.show()"
   ]
  },
  {
   "cell_type": "markdown",
   "metadata": {},
   "source": [
    "#### From the above analysis it can be said that higher the value of this Reloving balance , greater is the chance of loan default but as we can see the spread as almost equal hence the it has less impact on loan default."
   ]
  },
  {
   "cell_type": "code",
   "execution_count": null,
   "metadata": {},
   "outputs": [],
   "source": [
    "loans_frame.loc[loans_frame['loan_status'] == 'Charged Off','dti'].describe()"
   ]
  },
  {
   "cell_type": "code",
   "execution_count": null,
   "metadata": {},
   "outputs": [],
   "source": [
    "loans_frame.loc[loans_frame['loan_status'] == 'Fully Paid','dti'].describe()"
   ]
  },
  {
   "cell_type": "code",
   "execution_count": null,
   "metadata": {},
   "outputs": [],
   "source": [
    "plt.figure(figsize=(6,10))\n",
    "low, high = loans_frame.dti.quantile([0.05, 0.95])\n",
    "ax = sns.boxplot(x=\"loan_status\", y=\"dti\", data=loans_frame[loans_frame.dti.between(low,high)])\n",
    "plt.show()"
   ]
  },
  {
   "cell_type": "markdown",
   "metadata": {},
   "source": [
    "#### From the above analysis it can be said that higher the value of this debt to income , greater is the chance of loan default.\n",
    "We can see that defaulted loans have higher spread than the Fully paid load implying higher the value there ratio greater the risk of loan default"
   ]
  },
  {
   "cell_type": "markdown",
   "metadata": {},
   "source": [
    "#### A new variable created from `open_acc` and `total_acc` ,  number of open credit account by number of closed credit accounts a Data-driven metrics. \n",
    "The idea is the lower value of this metric will imply the customer is good at paying off loans"
   ]
  },
  {
   "cell_type": "code",
   "execution_count": null,
   "metadata": {},
   "outputs": [],
   "source": [
    "loans_frame['open_closed_ratio'] = loans_frame['open_acc'] / (loans_frame['total_acc'] - loans_frame['open_acc'])\n",
    "loans_frame['open_closed_ratio'].head()"
   ]
  },
  {
   "cell_type": "code",
   "execution_count": null,
   "metadata": {},
   "outputs": [],
   "source": [
    "plt.figure(figsize=(6,10))\n",
    "low, high = loans_frame.open_closed_ratio.quantile([0.05, 0.95])\n",
    "ax = sns.boxplot(x=\"loan_status\", y=\"open_closed_ratio\", data=loans_frame[loans_frame.open_closed_ratio.between(low,high)])\n",
    "plt.show()"
   ]
  },
  {
   "cell_type": "markdown",
   "metadata": {},
   "source": [
    "#### From the above analysis it can be said that higher the value of this metric , greater is the chance of loan default.\n",
    "We can see that defaulted loans have higher spread than the Fully paid load implying higher the value there ratio greater the risk of loan default"
   ]
  },
  {
   "cell_type": "markdown",
   "metadata": {},
   "source": [
    "#### A new variable created from `earliest_cr_line` and `issue_d` , a Business-driven metrics. \n",
    "The idea is to find since when the customer is taking credit. A longer credit history means the customer is paying off loans without getting defaulted"
   ]
  },
  {
   "cell_type": "code",
   "execution_count": null,
   "metadata": {
    "collapsed": true
   },
   "outputs": [],
   "source": [
    "def dateformat(earliest_cr_line_date):\n",
    "    date_split = earliest_cr_line_date.split('-')\n",
    "    if int(date_split[1]) > 18:\n",
    "        date_split[1] = '19' +  date_split[1]\n",
    "    else:\n",
    "        date_split[1] = '20' +  date_split[1]\n",
    "    return '-'.join(date_split)\n",
    "loans_frame['earliest_cr_line_mod'] = loans_frame['earliest_cr_line'].apply(dateformat)"
   ]
  },
  {
   "cell_type": "code",
   "execution_count": null,
   "metadata": {},
   "outputs": [],
   "source": [
    "loans_frame['credit_history'] = round((pd.to_datetime(loans_frame['issue_d'], format='%b-%y') - \\\n",
    "                                pd.to_datetime(loans_frame['earliest_cr_line_mod'], format='%b-%Y')) / np.timedelta64(1, 'M'))\n",
    "loans_frame['credit_history'].head()"
   ]
  },
  {
   "cell_type": "code",
   "execution_count": null,
   "metadata": {},
   "outputs": [],
   "source": [
    "loans_frame.loc[loans_frame['loan_status'] == 'Charged Off','credit_history'].describe()"
   ]
  },
  {
   "cell_type": "code",
   "execution_count": null,
   "metadata": {},
   "outputs": [],
   "source": [
    "loans_frame.loc[loans_frame['loan_status'] == 'Fully Paid','credit_history'].describe()"
   ]
  },
  {
   "cell_type": "code",
   "execution_count": null,
   "metadata": {},
   "outputs": [],
   "source": [
    "plt.figure(figsize=(6,10))\n",
    "low, high = loans_frame.credit_history.quantile([0.05, 0.95])\n",
    "ax = sns.boxplot(x=\"loan_status\", y=\"credit_history\", data=loans_frame[loans_frame.credit_history.between(low,high)])\n",
    "plt.show()"
   ]
  },
  {
   "cell_type": "markdown",
   "metadata": {},
   "source": [
    "#### From the above analysis it can be said that lower the value of this metric , greater is the chance of loan default but so high.\n",
    "We can see that defaulted loans have lesser spread than the Fully paid load implying longer credit history reduces the risk of loan default"
   ]
  },
  {
   "cell_type": "code",
   "execution_count": null,
   "metadata": {},
   "outputs": [],
   "source": [
    "loans_frame.loc[:,['annual_inc','installment','revol_bal']]\n",
    "loans_frame['new_debt_annual_inc_ratio'] = (loans_frame['installment'] * 12 + loans_frame['revol_bal']) /\\\n",
    "                                            loans_frame['annual_inc']\n",
    "loans_frame['new_debt_annual_inc_ratio'].head()"
   ]
  },
  {
   "cell_type": "markdown",
   "metadata": {},
   "source": [
    "#### A new variable created from `annual_inc`, `installment` and `revol_bal` , a Business-driven metrics. \n",
    "The idea is loan loan repayment capacity depends on the annual income, the installment to be paid per month and the total revoling balance of the customer"
   ]
  },
  {
   "cell_type": "code",
   "execution_count": null,
   "metadata": {},
   "outputs": [],
   "source": [
    "loans_frame.loc[loans_frame['loan_status'] == 'Charged Off','new_debt_annual_inc_ratio'].describe()"
   ]
  },
  {
   "cell_type": "code",
   "execution_count": null,
   "metadata": {},
   "outputs": [],
   "source": [
    "loans_frame.loc[loans_frame['loan_status'] == 'Fully Paid','new_debt_annual_inc_ratio'].describe()"
   ]
  },
  {
   "cell_type": "code",
   "execution_count": null,
   "metadata": {},
   "outputs": [],
   "source": [
    "plt.figure(figsize=(6,10))\n",
    "low, high = loans_frame.new_debt_annual_inc_ratio.quantile([0.05, 0.95])\n",
    "ax = sns.boxplot(x=\"loan_status\", y=\"new_debt_annual_inc_ratio\", \\\n",
    "                 data=loans_frame[loans_frame.new_debt_annual_inc_ratio.between(low,high)])\n",
    "plt.show()"
   ]
  },
  {
   "cell_type": "markdown",
   "metadata": {},
   "source": [
    "#### From the above analysis it can be said that higher the value of this metric metric , greater is the chance of loan default."
   ]
  },
  {
   "cell_type": "code",
   "execution_count": null,
   "metadata": {},
   "outputs": [],
   "source": [
    "loans_frame.shape"
   ]
  },
  {
   "cell_type": "code",
   "execution_count": null,
   "metadata": {
    "scrolled": false
   },
   "outputs": [],
   "source": [
    "plt.figure(figsize = (20,20))\n",
    "sns.heatmap(loans_frame.corr(),annot=True,cmap='viridis_r')\n",
    "plt.show()"
   ]
  }
 ],
 "metadata": {
  "kernelspec": {
   "display_name": "Python 3",
   "language": "python",
   "name": "python3"
  },
  "language_info": {
   "codemirror_mode": {
    "name": "ipython",
    "version": 3
   },
   "file_extension": ".py",
   "mimetype": "text/x-python",
   "name": "python",
   "nbconvert_exporter": "python",
   "pygments_lexer": "ipython3",
   "version": "3.6.3"
  }
 },
 "nbformat": 4,
 "nbformat_minor": 2
}
