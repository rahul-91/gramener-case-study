{
 "cells": [
  {
   "cell_type": "markdown",
   "metadata": {},
   "source": [
    "# Gramener Case Study"
   ]
  },
  {
   "cell_type": "code",
   "execution_count": null,
   "metadata": {
    "collapsed": true
   },
   "outputs": [],
   "source": [
    "import numpy as np\n",
    "import pandas as pd\n",
    "pd.options.display.float_format = '{:.3f}'.format\n",
    "pd.set_option('display.max_colwidth', -1)\n",
    "pd.options.display.max_columns = 20"
   ]
  },
  {
   "cell_type": "code",
   "execution_count": null,
   "metadata": {
    "collapsed": true
   },
   "outputs": [],
   "source": [
    "import matplotlib.pyplot as plt\n",
    "import seaborn as sns"
   ]
  },
  {
   "cell_type": "markdown",
   "metadata": {},
   "source": [
    "#### External contants"
   ]
  },
  {
   "cell_type": "code",
   "execution_count": null,
   "metadata": {
    "collapsed": true
   },
   "outputs": [],
   "source": [
    "loan_file_path=\"./loan/loan.csv\"\n",
    "data_dict_file_path = \"./loan/Data_Dictionary.xlsx\""
   ]
  },
  {
   "cell_type": "markdown",
   "metadata": {},
   "source": [
    "## Check Point 1:  Data Cleaning"
   ]
  },
  {
   "cell_type": "markdown",
   "metadata": {},
   "source": [
    "### - Fetching ```loan``` data from given file"
   ]
  },
  {
   "cell_type": "code",
   "execution_count": null,
   "metadata": {},
   "outputs": [],
   "source": [
    "loan = pd.read_csv(loan_file_path, encoding=\"utf8\")\n",
    "loan.head()"
   ]
  },
  {
   "cell_type": "markdown",
   "metadata": {},
   "source": [
    "#### Finding number of rows and columns in the dataset"
   ]
  },
  {
   "cell_type": "code",
   "execution_count": null,
   "metadata": {},
   "outputs": [],
   "source": [
    "print('The loan dataset set has %d rows and %d columns' % (loan.shape[0], loan.shape[1]))"
   ]
  },
  {
   "cell_type": "markdown",
   "metadata": {},
   "source": [
    "#### Removing columns which have all values as ```NaN```"
   ]
  },
  {
   "cell_type": "code",
   "execution_count": null,
   "metadata": {},
   "outputs": [],
   "source": [
    "nan_count_df = loan.isnull().sum().to_frame('nan_count')\n",
    "num_col_with_all_nan = nan_count_df.loc[nan_count_df['nan_count']  == loan.shape[0], :].shape[0]\n",
    "print('Number of columns with all NaN values are %d.' % (num_col_with_all_nan))"
   ]
  },
  {
   "cell_type": "code",
   "execution_count": null,
   "metadata": {},
   "outputs": [],
   "source": [
    "# Removing columns which have all values as NaN\n",
    "loans_frame = loan.dropna(axis=1, how=\"all\")\n",
    "print('The loan dataset set has now %d rows and %d columns' % (loans_frame.shape[0], loans_frame.shape[1]))"
   ]
  },
  {
   "cell_type": "markdown",
   "metadata": {},
   "source": [
    "### - Fetching ```Data Dictionary```  from given file"
   ]
  },
  {
   "cell_type": "code",
   "execution_count": null,
   "metadata": {},
   "outputs": [],
   "source": [
    "data_dict = pd.read_excel(data_dict_file_path, sheet_name=\"LoanStats\")\n",
    "data_dict.head()"
   ]
  },
  {
   "cell_type": "markdown",
   "metadata": {},
   "source": [
    "#### Initial List of columns for consideration "
   ]
  },
  {
   "cell_type": "code",
   "execution_count": null,
   "metadata": {
    "collapsed": true
   },
   "outputs": [],
   "source": [
    "filtered_data_dict = data_dict.loc[data_dict['LoanStatNew'].isin(loans_frame.columns), :]"
   ]
  },
  {
   "cell_type": "markdown",
   "metadata": {},
   "source": [
    "### Considering those loan entries which are  either `Fully Paid` or `Charged Off`  to discover any pattern in them\n",
    "The reason for not selecting `Current` loans because we don't if they will be fully paid or default in future. After creating a model we can predict if `Current` loans will default or not."
   ]
  },
  {
   "cell_type": "code",
   "execution_count": null,
   "metadata": {},
   "outputs": [],
   "source": [
    "loans_frame = loans_frame.loc[loans_frame['loan_status'].isin(['Fully Paid', 'Charged Off']), :]\n",
    "loans_frame.head()"
   ]
  },
  {
   "cell_type": "code",
   "execution_count": null,
   "metadata": {},
   "outputs": [],
   "source": [
    "# Shape of the 'Charged Off' records i.e. number of records and columns\n",
    "loans_frame.shape"
   ]
  },
  {
   "cell_type": "code",
   "execution_count": null,
   "metadata": {
    "collapsed": true
   },
   "outputs": [],
   "source": [
    "clean_loan_df = loans_frame.isnull().sum().sort_index().to_frame('nan_count').reset_index()"
   ]
  },
  {
   "cell_type": "code",
   "execution_count": null,
   "metadata": {},
   "outputs": [],
   "source": [
    "# Creating a dataframe by merging the data dictional the clean_loan dataframe to get a better understanding\n",
    "column_desc = pd.merge(filtered_data_dict, clean_loan_df, how=\"inner\", left_on=\"LoanStatNew\", right_on=\"index\")\n",
    "column_desc.loc[:,['LoanStatNew','Description','nan_count']]"
   ]
  },
  {
   "cell_type": "code",
   "execution_count": null,
   "metadata": {},
   "outputs": [],
   "source": [
    "column_desc.loc[column_desc['nan_count'] > 0,['LoanStatNew','Description','nan_count']]"
   ]
  },
  {
   "cell_type": "markdown",
   "metadata": {},
   "source": [
    "##### Removing columns  \n",
    "- ```mths_since_last_delinq```, ```mths_since_last_record```, ```next_pymnt_d``` as the contain more 50% values as NaN\n",
    "- ```emp_title```, ```desc```, ```title```, ```url``` are irrelevant for EDA"
   ]
  },
  {
   "cell_type": "code",
   "execution_count": null,
   "metadata": {},
   "outputs": [],
   "source": [
    "#### Removing columns  mths_since_last_delinq, mths_since_last_record, next_pymnt_d, emp_title, desc\n",
    "columns_to_remove = ['emp_title', 'desc', 'url', 'title']\n",
    "columns_under_process = column_desc.loc[~column_desc['LoanStatNew'].isin(columns_to_remove), 'LoanStatNew'].values\n",
    "loans_frame = loans_frame.loc[:,columns_under_process]\n",
    "\n",
    "# Validate will take 50% percent as cutoff and will keep below that\n",
    "max_allowed_nan = len(loans_frame)/2\n",
    "print(max_allowed_nan)\n",
    "loans_frame = loans_frame.loc[:,(nan_count_df['nan_count'] < max_allowed_nan)]\n",
    "print(loans_frame.isnull().sum())"
   ]
  },
  {
   "cell_type": "code",
   "execution_count": null,
   "metadata": {},
   "outputs": [],
   "source": [
    "loans_frame.shape"
   ]
  },
  {
   "cell_type": "code",
   "execution_count": null,
   "metadata": {},
   "outputs": [],
   "source": [
    "print(\"Total number of unique member in the data set is %d\" % loans_frame['member_id'].nunique())"
   ]
  },
  {
   "cell_type": "code",
   "execution_count": null,
   "metadata": {},
   "outputs": [],
   "source": [
    "pd.options.display.max_columns = 100 # To see all columns\n",
    "loans_frame.describe()"
   ]
  },
  {
   "cell_type": "code",
   "execution_count": null,
   "metadata": {},
   "outputs": [],
   "source": [
    "# Validate all values in column is same by checking unique values in clumn\n",
    "uniques = loans_frame.apply(lambda x:x.nunique())\n",
    "print(uniques)"
   ]
  },
  {
   "cell_type": "code",
   "execution_count": null,
   "metadata": {},
   "outputs": [],
   "source": [
    "# Remove columns where unique values are 1 as it illustrates that all values are same in column\n",
    "loans_frame = loans_frame.drop(uniques[uniques <= 1].index, axis = 1)\n",
    "print(loans_frame.shape)\n",
    "loans_frame.head()"
   ]
  },
  {
   "cell_type": "code",
   "execution_count": null,
   "metadata": {},
   "outputs": [],
   "source": [
    "column_desc.loc[~column_desc['LoanStatNew'].isin(columns_to_remove), ['LoanStatNew', 'Description']]"
   ]
  },
  {
   "cell_type": "markdown",
   "metadata": {},
   "source": [
    "### Check Point 2: Univariate Analysis"
   ]
  },
  {
   "cell_type": "markdown",
   "metadata": {},
   "source": [
    "From the above results we can now chalk out catergorical columns in the ```loans_frame```\n",
    "- ```unordered categorical variables``` \n",
    "==> addr_state, application_type, home_ownership, initial_list_status, purpose, pymnt_plan, sub_grade, verification_status, zip_code\n",
    "- ```ordered categorical variables```\n",
    "==> emp_length, grade, sub_grade, term"
   ]
  },
  {
   "cell_type": "code",
   "execution_count": null,
   "metadata": {
    "collapsed": true
   },
   "outputs": [],
   "source": [
    "def category_univariate_analysis(column_name):\n",
    "    df = loans_frame.groupby('loan_status')[column_name].value_counts(ascending=False)\\\n",
    "                            .unstack(level=0).reset_index()\n",
    "    df['Charged Off'].fillna(value=0, inplace=True)\n",
    "    df['Total'] = df['Charged Off'] + df['Fully Paid']\n",
    "    df['Charged_Off_Percent'] = df['Charged Off'] * 100 /df['Total']\n",
    "    df['Fully_Paid_Percent'] = df['Fully Paid'] * 100 /df['Total']\n",
    "    return df.sort_values(by='Charged_Off_Percent', ascending=False)"
   ]
  },
  {
   "cell_type": "code",
   "execution_count": null,
   "metadata": {
    "collapsed": true
   },
   "outputs": [],
   "source": [
    "def power_law_df(df, column_name):\n",
    "    s1 = np.log(df['Charged Off'].rank(axis=0, ascending=False)).to_frame(name='Rank_Log')\n",
    "    s2 = np.log(df['Charged Off']).to_frame(name='Count_Log')\n",
    "    s3 = df[column_name].to_frame(name=column_name)\n",
    "\n",
    "    power_law_1 = pd.concat([s1, s2, s3], axis=1)\n",
    "    power_law_1['status'] = 'Charged Off'\n",
    "\n",
    "    s1 = np.log(df['Fully Paid'].rank(axis=0, ascending=False)).to_frame(name='Rank_Log')\n",
    "    s2 = np.log(df['Fully Paid']).to_frame(name='Count_Log')\n",
    "\n",
    "    power_law_2 = pd.concat([s1, s2, s3], axis=1)\n",
    "    power_law_2['status'] = 'Fully Paid'\n",
    "\n",
    "    power_law = pd.concat([power_law_1, power_law_2], ignore_index=True)\n",
    "    return power_law"
   ]
  },
  {
   "cell_type": "code",
   "execution_count": null,
   "metadata": {},
   "outputs": [],
   "source": [
    "loans_frame['verification_status'].value_counts(normalize=True)"
   ]
  },
  {
   "cell_type": "code",
   "execution_count": null,
   "metadata": {},
   "outputs": [],
   "source": [
    "verification_status_analysis = category_univariate_analysis('verification_status')\n",
    "verification_status_analysis"
   ]
  },
  {
   "cell_type": "code",
   "execution_count": null,
   "metadata": {},
   "outputs": [],
   "source": [
    "df = power_law_df(verification_status_analysis, 'verification_status')\n",
    "df.sort_values(by='Rank_Log')"
   ]
  },
  {
   "cell_type": "code",
   "execution_count": null,
   "metadata": {},
   "outputs": [],
   "source": [
    "sns.pointplot(x=\"Rank_Log\", y=\"Count_Log\", hue=\"status\", data=df.loc[:,['Rank_Log', 'Count_Log', 'status']])\n",
    "plt.show()"
   ]
  },
  {
   "cell_type": "code",
   "execution_count": null,
   "metadata": {},
   "outputs": [],
   "source": [
    "sns.barplot(x=\"verification_status\", y=\"Charged_Off_Percent\", data=verification_status_analysis)\\\n",
    "    .set(ylabel='Charged Off(%)', xlabel='Verification Status')\n",
    "plt.show()"
   ]
  },
  {
   "cell_type": "code",
   "execution_count": null,
   "metadata": {},
   "outputs": [],
   "source": [
    "loans_frame['home_ownership'].value_counts(normalize=True)"
   ]
  },
  {
   "cell_type": "code",
   "execution_count": null,
   "metadata": {},
   "outputs": [],
   "source": [
    "home_ownership_analysis = category_univariate_analysis('home_ownership')\n",
    "home_ownership_analysis"
   ]
  },
  {
   "cell_type": "code",
   "execution_count": null,
   "metadata": {},
   "outputs": [],
   "source": [
    "df = power_law_df(home_ownership_analysis, 'home_ownership')\n",
    "df.sort_values(by='Rank_Log')"
   ]
  },
  {
   "cell_type": "code",
   "execution_count": null,
   "metadata": {},
   "outputs": [],
   "source": [
    "sns.pointplot(x=\"Rank_Log\", y=\"Count_Log\", hue=\"status\", data=df.loc[:,['Rank_Log', 'Count_Log', 'status']])\n",
    "plt.show()"
   ]
  },
  {
   "cell_type": "code",
   "execution_count": null,
   "metadata": {},
   "outputs": [],
   "source": [
    "sns.barplot(x=\"home_ownership\", y=\"Charged_Off_Percent\", data=home_ownership_analysis)\\\n",
    "    .set(ylabel='Charged Off(%)', xlabel='Home Ownership')\n",
    "plt.show()"
   ]
  },
  {
   "cell_type": "code",
   "execution_count": null,
   "metadata": {},
   "outputs": [],
   "source": [
    "loans_frame['purpose'].value_counts(normalize=True)"
   ]
  },
  {
   "cell_type": "code",
   "execution_count": null,
   "metadata": {},
   "outputs": [],
   "source": [
    "purpose_analysis = category_univariate_analysis('purpose')\n",
    "purpose_analysis"
   ]
  },
  {
   "cell_type": "code",
   "execution_count": null,
   "metadata": {},
   "outputs": [],
   "source": [
    "df = power_law_df(purpose_analysis, 'purpose')\n",
    "df.sort_values(by='Rank_Log')"
   ]
  },
  {
   "cell_type": "code",
   "execution_count": null,
   "metadata": {},
   "outputs": [],
   "source": [
    "sns.pointplot(x=\"Rank_Log\", y=\"Count_Log\", hue=\"status\", data=df.loc[:,['Rank_Log', 'Count_Log', 'status']])\n",
    "plt.show()"
   ]
  },
  {
   "cell_type": "code",
   "execution_count": null,
   "metadata": {},
   "outputs": [],
   "source": [
    "plt.figure(figsize=(15,4))\n",
    "g = sns.barplot(x=\"purpose\", y=\"Charged_Off_Percent\", data=purpose_analysis)\\\n",
    "    .set(ylabel='Charged Off(%)', xlabel='Purpose')\n",
    "locs, labels = plt.xticks()\n",
    "plt.setp(labels, rotation=45)\n",
    "plt.show()"
   ]
  },
  {
   "cell_type": "code",
   "execution_count": null,
   "metadata": {},
   "outputs": [],
   "source": [
    "loans_frame['grade'].value_counts(normalize=True)"
   ]
  },
  {
   "cell_type": "code",
   "execution_count": null,
   "metadata": {},
   "outputs": [],
   "source": [
    "grade_analysis = category_univariate_analysis('grade')\n",
    "grade_analysis"
   ]
  },
  {
   "cell_type": "code",
   "execution_count": null,
   "metadata": {},
   "outputs": [],
   "source": [
    "plt.figure(figsize=(15,12))\n",
    "plt.subplot(3, 1, 1)\n",
    "g = sns.barplot(x=\"grade\", y=\"Charged_Off_Percent\", data=grade_analysis.sort_values(by='grade'))\\\n",
    "    .set(ylabel='Charged Off(%)', xlabel='Grade')\n",
    "    \n",
    "plt.subplot(3, 1, 2)\n",
    "sns.barplot(x=\"grade\", y=\"Charged Off\", data=grade_analysis)\\\n",
    "    .set(ylabel='Charged Off(Count)', xlabel='Grade')\n",
    "\n",
    "plt.subplot(3, 1, 3)\n",
    "sns.barplot(x=\"grade\", y=\"Fully Paid\", data=grade_analysis)\\\n",
    "    .set(ylabel='Fully Paid(Count)', xlabel='Grade')\n",
    "plt.show()"
   ]
  },
  {
   "cell_type": "code",
   "execution_count": null,
   "metadata": {},
   "outputs": [],
   "source": [
    "category_univariate_analysis('sub_grade')"
   ]
  },
  {
   "cell_type": "code",
   "execution_count": null,
   "metadata": {},
   "outputs": [],
   "source": [
    "loans_frame['emp_length'].value_counts(normalize=True)"
   ]
  },
  {
   "cell_type": "code",
   "execution_count": null,
   "metadata": {},
   "outputs": [],
   "source": [
    "emp_length_analysis = category_univariate_analysis('emp_length')\n",
    "emp_length_analysis"
   ]
  },
  {
   "cell_type": "code",
   "execution_count": null,
   "metadata": {},
   "outputs": [],
   "source": [
    "plt.figure(figsize=(15,12))\n",
    "plt.subplot(3, 1, 1)\n",
    "sns.barplot(x=\"emp_length\", y=\"Charged_Off_Percent\", data=emp_length_analysis.sort_values(by='emp_length'))\\\n",
    "    .set(ylabel='Charged Off(%)', xlabel='Employee work experience')\n",
    "    \n",
    "plt.subplot(3, 1, 2)\n",
    "sns.barplot(x=\"emp_length\", y=\"Charged Off\", data=emp_length_analysis.sort_values(by='emp_length'))\\\n",
    "    .set(ylabel='Charged Off(Count)', xlabel='Employee work experience')\n",
    "\n",
    "plt.subplot(3, 1, 3)\n",
    "sns.barplot(x=\"emp_length\", y=\"Fully Paid\", data=emp_length_analysis.sort_values(by='emp_length'))\\\n",
    "    .set(ylabel='Fully Paid(Count)', xlabel='Employee work experience')\n",
    "locs, labels = plt.xticks()\n",
    "plt.setp(labels, rotation=45)\n",
    "plt.show()"
   ]
  },
  {
   "cell_type": "code",
   "execution_count": null,
   "metadata": {},
   "outputs": [],
   "source": [
    "loans_frame['term'].value_counts(normalize=True)"
   ]
  },
  {
   "cell_type": "code",
   "execution_count": null,
   "metadata": {},
   "outputs": [],
   "source": [
    "term_analysis = category_univariate_analysis('term')\n",
    "term_analysis"
   ]
  },
  {
   "cell_type": "code",
   "execution_count": null,
   "metadata": {},
   "outputs": [],
   "source": [
    "g = sns.barplot(x=\"term\", y=\"Charged_Off_Percent\", data=term_analysis)\\\n",
    "    .set(ylabel='Charged Off(%)', xlabel='Term')\n",
    "plt.show()"
   ]
  },
  {
   "cell_type": "code",
   "execution_count": null,
   "metadata": {},
   "outputs": [],
   "source": [
    "loans_frame['addr_state'].value_counts(normalize=True)"
   ]
  },
  {
   "cell_type": "code",
   "execution_count": null,
   "metadata": {},
   "outputs": [],
   "source": [
    "addr_state_analysis = category_univariate_analysis('addr_state')\n",
    "addr_state_analysis"
   ]
  },
  {
   "cell_type": "code",
   "execution_count": null,
   "metadata": {},
   "outputs": [],
   "source": [
    "plt.figure(figsize=(15,4))\n",
    "g = sns.barplot(x=\"addr_state\", y=\"Charged_Off_Percent\", data=addr_state_analysis)\\\n",
    "    .set(ylabel='Charged Off(%)', xlabel='Address State')\n",
    "# locs, labels = plt.xticks()\n",
    "# plt.setp(labels, rotation=45)\n",
    "plt.show()"
   ]
  },
  {
   "cell_type": "markdown",
   "metadata": {},
   "source": [
    "#### Quatitative variable univariate analysis"
   ]
  },
  {
   "cell_type": "code",
   "execution_count": null,
   "metadata": {},
   "outputs": [],
   "source": [
    "loans_frame['revol_util'] = loans_frame['revol_util'].astype('str')\n",
    "loans_frame['revol_util'] = loans_frame['revol_util'].map(lambda x : x.rstrip('%'))\n",
    "loans_frame['revol_util'] = loans_frame['revol_util'].astype('float')\n",
    "bins=[0,10,20,30,40,50,60,70,80,90,100]\n",
    "pd.cut(loans_frame.loc[loans_frame['loan_status'] == 'Charged Off','revol_util'], bins=bins).value_counts(normalize=True)"
   ]
  },
  {
   "cell_type": "code",
   "execution_count": null,
   "metadata": {},
   "outputs": [],
   "source": [
    "loans_frame['revol_util'] = loans_frame['revol_util'].astype('str')\n",
    "loans_frame['revol_util'] = loans_frame['revol_util'].map(lambda x : x.rstrip('%'))\n",
    "loans_frame['revol_util'] = loans_frame['revol_util'].astype('float')\n",
    "bins=[0,10,20,30,40,50,60,70,80,90,100]\n",
    "pd.cut(loans_frame.loc[loans_frame['loan_status'] == 'Fully Paid','revol_util'], bins=bins).value_counts(normalize=True)"
   ]
  },
  {
   "cell_type": "code",
   "execution_count": null,
   "metadata": {},
   "outputs": [],
   "source": [
    "loans_frame.loc[loans_frame['loan_status'] == 'Charged Off','revol_bal'].describe()"
   ]
  },
  {
   "cell_type": "code",
   "execution_count": null,
   "metadata": {},
   "outputs": [],
   "source": [
    "loans_frame.loc[loans_frame['loan_status'] == 'Fully Paid','revol_bal'].describe()"
   ]
  },
  {
   "cell_type": "code",
   "execution_count": null,
   "metadata": {},
   "outputs": [],
   "source": [
    "loans_frame.loc[loans_frame['loan_status'] == 'Charged Off','dti'].describe()"
   ]
  },
  {
   "cell_type": "code",
   "execution_count": null,
   "metadata": {},
   "outputs": [],
   "source": [
    "loans_frame.loc[loans_frame['loan_status'] == 'Fully Paid','dti'].describe()"
   ]
  },
  {
   "cell_type": "code",
   "execution_count": null,
   "metadata": {},
   "outputs": [],
   "source": [
    "loans_frame.loc[loans_frame['loan_status'] == 'Charged Off','open_acc'].describe()"
   ]
  },
  {
   "cell_type": "code",
   "execution_count": null,
   "metadata": {},
   "outputs": [],
   "source": [
    "loans_frame.loc[loans_frame['loan_status'] == 'Fully Paid','open_acc'].describe()"
   ]
  },
  {
   "cell_type": "code",
   "execution_count": null,
   "metadata": {},
   "outputs": [],
   "source": [
    "loans_frame.loc[loans_frame['loan_status'] == 'Charged Off','total_acc'].describe()"
   ]
  },
  {
   "cell_type": "code",
   "execution_count": null,
   "metadata": {},
   "outputs": [],
   "source": [
    "loans_frame.loc[loans_frame['loan_status'] == 'Fully Paid','total_acc'].describe()"
   ]
  },
  {
   "cell_type": "code",
   "execution_count": null,
   "metadata": {
    "collapsed": true
   },
   "outputs": [],
   "source": [
    "def dateformat(earliest_cr_line_date):\n",
    "    date_split = earliest_cr_line_date.split('-')\n",
    "    if int(date_split[1]) > 18:\n",
    "        date_split[1] = '19' +  date_split[1]\n",
    "    else:\n",
    "        date_split[1] = '20' +  date_split[1]\n",
    "    return '-'.join(date_split)\n",
    "loans_frame['earliest_cr_line_mod'] = loans_frame['earliest_cr_line'].apply(dateformat)"
   ]
  },
  {
   "cell_type": "code",
   "execution_count": null,
   "metadata": {},
   "outputs": [],
   "source": [
    "loans_frame['credit_history'] = round((pd.to_datetime(loans_frame['issue_d'], format='%b-%y') - \\\n",
    "                                pd.to_datetime(loans_frame['earliest_cr_line_mod'], format='%b-%Y')) / np.timedelta64(1, 'M'))\n",
    "loans_frame['credit_history'].head()"
   ]
  },
  {
   "cell_type": "code",
   "execution_count": null,
   "metadata": {},
   "outputs": [],
   "source": [
    "loans_frame.loc[loans_frame['loan_status'] == 'Charged Off','credit_history'].describe()"
   ]
  },
  {
   "cell_type": "code",
   "execution_count": null,
   "metadata": {},
   "outputs": [],
   "source": [
    "loans_frame.loc[loans_frame['loan_status'] == 'Fully Paid','credit_history'].describe()"
   ]
  },
  {
   "cell_type": "code",
   "execution_count": null,
   "metadata": {},
   "outputs": [],
   "source": [
    "loans_frame.loc[:,['annual_inc','installment','revol_bal']]\n",
    "loans_frame['new_debt_annual_inc_ratio'] = (loans_frame['installment'] * 12 + loans_frame['revol_bal']) /\\\n",
    "                                            loans_frame['annual_inc']\n",
    "loans_frame['new_debt_annual_inc_ratio'].head()"
   ]
  },
  {
   "cell_type": "code",
   "execution_count": null,
   "metadata": {},
   "outputs": [],
   "source": [
    "loans_frame.loc[loans_frame['loan_status'] == 'Charged Off','new_debt_annual_inc_ratio'].describe()"
   ]
  },
  {
   "cell_type": "code",
   "execution_count": null,
   "metadata": {},
   "outputs": [],
   "source": [
    "loans_frame.loc[loans_frame['loan_status'] == 'Fully Paid','new_debt_annual_inc_ratio'].describe()"
   ]
  },
  {
   "cell_type": "code",
   "execution_count": null,
   "metadata": {},
   "outputs": [],
   "source": [
    "loans_frame.shape"
   ]
  },
  {
   "cell_type": "markdown",
   "metadata": {
    "scrolled": false
   },
   "source": [
    "## Bivariate Analysis\n",
    "##### Let see co relation between columns with charged off and fully paid customers. "
   ]
  },
  {
   "cell_type": "code",
   "execution_count": null,
   "metadata": {},
   "outputs": [],
   "source": [
    "loans_frame.head()"
   ]
  },
  {
   "cell_type": "code",
   "execution_count": null,
   "metadata": {},
   "outputs": [],
   "source": [
    "# Remove % from int_rate for performing co relation\n",
    "loans_frame['int_rate'] = loans_frame['int_rate'].apply(lambda x: float(x.split('%')[0]))\n",
    "loans_frame.head()"
   ]
  },
  {
   "cell_type": "code",
   "execution_count": null,
   "metadata": {
    "collapsed": true
   },
   "outputs": [],
   "source": [
    "# Function to drive a column named charged_off with 1 stating as customer charged off and 0 stating as customer not charged off\n",
    "def addChargedOff(row):\n",
    "    if(row['loan_status'] == 'Charged Off'):\n",
    "        val = 1\n",
    "    else :\n",
    "        val = 0\n",
    "    return val\n",
    "\n",
    "# Function to drive a column named fully_paid with 1 stating as customer fully paid loan and 0 stating as customer not fully paid\n",
    "def addFullyPaid(row):\n",
    "    if(row['loan_status'] == 'Fully Paid'):\n",
    "        val = 1\n",
    "    else :\n",
    "        val = 0\n",
    "    return val\n",
    "        \n",
    "    "
   ]
  },
  {
   "cell_type": "code",
   "execution_count": null,
   "metadata": {},
   "outputs": [],
   "source": [
    "# Adding columns with the name of charged_off and fully_paid\n",
    "loans_frame_without_current = loans_frame.loc[loans_frame['loan_status'] != 'Current']\n",
    "loans_frame_without_current['charged_off'] = loans_frame_without_current.apply(addChargedOff,axis = 1)\n",
    "loans_frame_without_current['fully_paid'] = loans_frame_without_current.apply(addFullyPaid, axis = 1)\n",
    "loans_frame_without_current.head()"
   ]
  },
  {
   "cell_type": "code",
   "execution_count": null,
   "metadata": {},
   "outputs": [],
   "source": [
    "# Driving corelation of charged_off and fully_paid with other columns.\n",
    "corr = loans_frame_without_current.corr()\n",
    "corr"
   ]
  },
  {
   "cell_type": "code",
   "execution_count": null,
   "metadata": {},
   "outputs": [],
   "source": [
    "# Drawing heatmap to see pattern of corelation effecting loan getting default or fully paid\n",
    "loans_frame_without_current = loans_frame_without_current[['charged_off','fully_paid','annual_inc','dti','inq_last_6mths','installment','int_rate','loan_amnt','pub_rec_bankruptcies','revol_bal','revol_util','total_acc','total_rec_int','total_rec_late_fee','total_rec_prncp','credit_history','new_debt_annual_inc_ratio']].copy()\n",
    "plt.figure(figsize = (20,20))\n",
    "sns.heatmap(loans_frame_without_current.corr(),annot=True,cmap='viridis_r')\n",
    "plt.show()"
   ]
  },
  {
   "cell_type": "markdown",
   "metadata": {},
   "source": [
    "## Conclusion:\n",
    "Above trend shows co relation inwhich negative means decrease in attribute value increase the probability of the event and positve means increase in attribute value increase the probability of the event.\n",
    "\n",
    "###### Below are reasons for probability of loan getting default / charged off\n",
    "###### Low Annual Income\n",
    "###### High DTI\n",
    "###### High installments\n",
    "###### High interest rate\n",
    "###### High Loan amount \n",
    "###### High frequency of recieving of late fees\n",
    "###### Less availbility of credit history\n",
    "\n",
    "\n",
    "These above variables most probably influences loan success / unsuccess.\n"
   ]
  },
  {
   "cell_type": "code",
   "execution_count": null,
   "metadata": {
    "collapsed": true
   },
   "outputs": [],
   "source": []
  }
 ],
 "metadata": {
  "kernelspec": {
   "display_name": "Python 3",
   "language": "python",
   "name": "python3"
  },
  "language_info": {
   "codemirror_mode": {
    "name": "ipython",
    "version": 3
   },
   "file_extension": ".py",
   "mimetype": "text/x-python",
   "name": "python",
   "nbconvert_exporter": "python",
   "pygments_lexer": "ipython3",
   "version": "3.6.3"
  }
 },
 "nbformat": 4,
 "nbformat_minor": 2
}
